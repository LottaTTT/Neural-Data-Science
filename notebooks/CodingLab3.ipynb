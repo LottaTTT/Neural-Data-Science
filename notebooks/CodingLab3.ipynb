{
 "cells": [
  {
   "cell_type": "markdown",
   "metadata": {},
   "source": [
    "_Neural Data Science_\n",
    "\n",
    "Lecturer: Jan Lause, Prof. Dr. Philipp Berens\n",
    "\n",
    "Tutors: Jonas Beck, Rita González Márquez, Fabio Seel\n",
    "\n",
    "Summer term 2024\n",
    "\n",
    "Student name: FILL IN YOUR NAMES HERE\n",
    "\n",
    "# Coding Lab 3\n",
    "\n",
    "- __Data__: Download the data file ```nds_cl_3_*.csv``` from ILIAS and save it in a subfolder ```../data/```.\n",
    "- __Dependencies__: You don't have to use the exact versions of all the dependencies in this notebook, as long as they are new enough. But if you run \"Run All\" in Jupyter and the boilerplate code breaks, you probably need to upgrade them.\n",
    "\n",
    "Two-photon imaging is widely used to study computations in populations of neurons. In this exercise sheet we will study properties of different indicators and work on methods to infer spikes from calcium traces. All data is provided at a sampling rate of 100 Hz. For analysis, please resample it to 25 Hz using `scipy.signal.decimate`."
   ]
  },
  {
   "cell_type": "code",
   "execution_count": 133,
   "metadata": {},
   "outputs": [
    {
     "name": "stdout",
     "output_type": "stream",
     "text": [
      "The jupyter_black extension is already loaded. To reload it, use:\n",
      "  %reload_ext jupyter_black\n",
      "The watermark extension is already loaded. To reload it, use:\n",
      "  %reload_ext watermark\n",
      "Last updated: 2024-05-20 22:20:20Mitteleuropäische Sommerzeit\n",
      "\n",
      "Python implementation: CPython\n",
      "Python version       : 3.9.18\n",
      "IPython version      : 8.18.1\n",
      "\n",
      "sklearn: 1.4.2\n",
      "\n",
      "scipy     : 1.13.0\n",
      "seaborn   : 0.13.2\n",
      "matplotlib: 3.8.4\n",
      "numpy     : 1.26.4\n",
      "pandas    : 2.2.2\n",
      "\n",
      "Watermark: 2.4.3\n",
      "\n"
     ]
    }
   ],
   "source": [
    "import pandas as pd\n",
    "import seaborn as sns\n",
    "import matplotlib.pyplot as plt\n",
    "import numpy as np\n",
    "from scipy import signal\n",
    "from scipy.io import loadmat\n",
    "from __future__ import annotations\n",
    "\n",
    "%matplotlib inline\n",
    "\n",
    "%load_ext jupyter_black\n",
    "\n",
    "%load_ext watermark\n",
    "%watermark --time --date --timezone --updated --python --iversions --watermark -p sklearn"
   ]
  },
  {
   "cell_type": "code",
   "execution_count": 134,
   "metadata": {},
   "outputs": [],
   "source": [
    "plt.style.use(\"../matplotlib_style.txt\")"
   ]
  },
  {
   "cell_type": "markdown",
   "metadata": {},
   "source": [
    "## Load data"
   ]
  },
  {
   "cell_type": "code",
   "execution_count": 135,
   "metadata": {},
   "outputs": [],
   "source": [
    "# ogb dataset from Theis et al. 2016 Neuron\n",
    "ogb_calcium = pd.read_csv(\"../data/nds_cl_3_ogb_calcium.csv\", header=0)\n",
    "ogb_spikes = pd.read_csv(\"../data/nds_cl_3_ogb_spikes.csv\", header=0)\n",
    "\n",
    "# gcamp dataset from Chen et al. 2013 Nature\n",
    "gcamp_calcium = pd.read_csv(\"../data/nds_cl_3_gcamp2_calcium.csv\", header=0)\n",
    "gcamp_spikes = pd.read_csv(\"../data/nds_cl_3_gcamp2_spikes.csv\", header=0)"
   ]
  },
  {
   "cell_type": "code",
   "execution_count": 136,
   "metadata": {},
   "outputs": [
    {
     "data": {
      "text/plain": [
       "((71986, 11), (71986, 11), (23973, 37), (23973, 37))"
      ]
     },
     "execution_count": 136,
     "metadata": {},
     "output_type": "execute_result"
    }
   ],
   "source": [
    "ogb_calcium.shape, ogb_spikes.shape, gcamp_calcium.shape, gcamp_spikes.shape"
   ]
  },
  {
   "cell_type": "code",
   "execution_count": 137,
   "metadata": {},
   "outputs": [
    {
     "data": {
      "text/html": [
       "<div>\n",
       "<style scoped>\n",
       "    .dataframe tbody tr th:only-of-type {\n",
       "        vertical-align: middle;\n",
       "    }\n",
       "\n",
       "    .dataframe tbody tr th {\n",
       "        vertical-align: top;\n",
       "    }\n",
       "\n",
       "    .dataframe thead th {\n",
       "        text-align: right;\n",
       "    }\n",
       "</style>\n",
       "<table border=\"1\" class=\"dataframe\">\n",
       "  <thead>\n",
       "    <tr style=\"text-align: right;\">\n",
       "      <th></th>\n",
       "      <th>0</th>\n",
       "      <th>1</th>\n",
       "      <th>2</th>\n",
       "      <th>3</th>\n",
       "      <th>4</th>\n",
       "      <th>5</th>\n",
       "      <th>6</th>\n",
       "      <th>7</th>\n",
       "      <th>8</th>\n",
       "      <th>9</th>\n",
       "      <th>10</th>\n",
       "    </tr>\n",
       "  </thead>\n",
       "  <tbody>\n",
       "    <tr>\n",
       "      <th>0</th>\n",
       "      <td>0</td>\n",
       "      <td>0</td>\n",
       "      <td>0.0</td>\n",
       "      <td>0.0</td>\n",
       "      <td>0</td>\n",
       "      <td>0</td>\n",
       "      <td>0</td>\n",
       "      <td>0.0</td>\n",
       "      <td>0</td>\n",
       "      <td>0.0</td>\n",
       "      <td>0</td>\n",
       "    </tr>\n",
       "    <tr>\n",
       "      <th>1</th>\n",
       "      <td>0</td>\n",
       "      <td>0</td>\n",
       "      <td>0.0</td>\n",
       "      <td>0.0</td>\n",
       "      <td>0</td>\n",
       "      <td>1</td>\n",
       "      <td>0</td>\n",
       "      <td>0.0</td>\n",
       "      <td>0</td>\n",
       "      <td>0.0</td>\n",
       "      <td>0</td>\n",
       "    </tr>\n",
       "    <tr>\n",
       "      <th>2</th>\n",
       "      <td>0</td>\n",
       "      <td>0</td>\n",
       "      <td>0.0</td>\n",
       "      <td>0.0</td>\n",
       "      <td>0</td>\n",
       "      <td>0</td>\n",
       "      <td>0</td>\n",
       "      <td>0.0</td>\n",
       "      <td>0</td>\n",
       "      <td>0.0</td>\n",
       "      <td>0</td>\n",
       "    </tr>\n",
       "    <tr>\n",
       "      <th>3</th>\n",
       "      <td>0</td>\n",
       "      <td>0</td>\n",
       "      <td>0.0</td>\n",
       "      <td>0.0</td>\n",
       "      <td>0</td>\n",
       "      <td>1</td>\n",
       "      <td>0</td>\n",
       "      <td>0.0</td>\n",
       "      <td>0</td>\n",
       "      <td>0.0</td>\n",
       "      <td>0</td>\n",
       "    </tr>\n",
       "    <tr>\n",
       "      <th>4</th>\n",
       "      <td>0</td>\n",
       "      <td>0</td>\n",
       "      <td>0.0</td>\n",
       "      <td>0.0</td>\n",
       "      <td>0</td>\n",
       "      <td>0</td>\n",
       "      <td>0</td>\n",
       "      <td>0.0</td>\n",
       "      <td>0</td>\n",
       "      <td>0.0</td>\n",
       "      <td>0</td>\n",
       "    </tr>\n",
       "  </tbody>\n",
       "</table>\n",
       "</div>"
      ],
      "text/plain": [
       "   0  1    2    3  4  5  6    7  8    9  10\n",
       "0  0  0  0.0  0.0  0  0  0  0.0  0  0.0   0\n",
       "1  0  0  0.0  0.0  0  1  0  0.0  0  0.0   0\n",
       "2  0  0  0.0  0.0  0  0  0  0.0  0  0.0   0\n",
       "3  0  0  0.0  0.0  0  1  0  0.0  0  0.0   0\n",
       "4  0  0  0.0  0.0  0  0  0  0.0  0  0.0   0"
      ]
     },
     "execution_count": 137,
     "metadata": {},
     "output_type": "execute_result"
    }
   ],
   "source": [
    "ogb_spikes.head()"
   ]
  },
  {
   "cell_type": "markdown",
   "metadata": {},
   "source": [
    "## Task 0: Resampling"
   ]
  },
  {
   "cell_type": "code",
   "execution_count": 138,
   "metadata": {},
   "outputs": [
    {
     "name": "stdout",
     "output_type": "stream",
     "text": [
      "shapes before resampling: (71986, 11) (71986, 11) (23973, 37) (23973, 37)\n",
      "shapes after resampling: (17997, 11) (17996, 11) (5994, 37) (5993, 37)\n"
     ]
    }
   ],
   "source": [
    "# set resampling factor 100 /25 = 4\n",
    "q = 4\n",
    "\n",
    "print(\n",
    "    \"shapes before resampling:\",\n",
    "    ogb_calcium.shape,\n",
    "    ogb_spikes.shape,\n",
    "    gcamp_calcium.shape,\n",
    "    gcamp_spikes.shape,\n",
    ")\n",
    "\n",
    "\n",
    "def resample(x: pd.DataFrame, q: int, use_scipy=True) -> pd.DataFrame:\n",
    "    \"\"\"\n",
    "    Resamples the input DataFrame by using SciPy's decimate function or summing over non-overlapping blocks of rows.\n",
    "\n",
    "    Parameters:\n",
    "    - x: pd.DataFrame\n",
    "        The input DataFrame with spike signals in each column.\n",
    "    - q: int\n",
    "        The downsampling factor. The number of rows in the output will be the original number of rows divided by this factor.\n",
    "    - use_scipy: bool, default=True\n",
    "        If True, uses SciPy's decimate function to downsample the DataFrame. If False, sums over non-overlapping blocks of size `q`.\n",
    "\n",
    "    Returns:\n",
    "    - pd.DataFrame\n",
    "        The resampled DataFrame.\n",
    "    \"\"\"\n",
    "    if use_scipy:\n",
    "        return pd.DataFrame(\n",
    "            signal.decimate(x, q=q, axis=0),\n",
    "            columns=np.arange(0, x.shape[1]).astype(\"str\"),\n",
    "        )\n",
    "    else:\n",
    "        # trim to a multiple of the factor q\n",
    "        n = x.shape[0]\n",
    "        m = n // q\n",
    "        x.drop(x.tail(n - (m * q)).index, inplace=True)\n",
    "\n",
    "        # put every entry into non-overlapping bins\n",
    "        x[\"bin\"] = np.arange(0, m).repeat(q)\n",
    "\n",
    "        # sum over the bins\n",
    "        resampled_x = x.groupby([\"bin\"]).sum()\n",
    "\n",
    "        return resampled_x\n",
    "\n",
    "\n",
    "# resample the calcium signal with scipy.signal.decimate\n",
    "ogb_calcium_25 = resample(ogb_calcium, q=q)\n",
    "gcamp_calcium_25 = resample(gcamp_calcium, q=q)\n",
    "\n",
    "# resample the spike signal, that does not work with the scipy function, because it is a int signal\n",
    "ogb_spikes_25 = resample(ogb_spikes, q=q, use_scipy=False)\n",
    "gcamp_spikes_25 = resample(gcamp_spikes, q=q, use_scipy=False)\n",
    "\n",
    "print(\n",
    "    \"shapes after resampling:\",\n",
    "    ogb_calcium_25.shape,\n",
    "    ogb_spikes_25.shape,\n",
    "    gcamp_calcium_25.shape,\n",
    "    gcamp_spikes_25.shape,\n",
    ")"
   ]
  },
  {
   "cell_type": "code",
   "execution_count": 139,
   "metadata": {},
   "outputs": [
    {
     "data": {
      "text/html": [
       "<div>\n",
       "<style scoped>\n",
       "    .dataframe tbody tr th:only-of-type {\n",
       "        vertical-align: middle;\n",
       "    }\n",
       "\n",
       "    .dataframe tbody tr th {\n",
       "        vertical-align: top;\n",
       "    }\n",
       "\n",
       "    .dataframe thead th {\n",
       "        text-align: right;\n",
       "    }\n",
       "</style>\n",
       "<table border=\"1\" class=\"dataframe\">\n",
       "  <thead>\n",
       "    <tr style=\"text-align: right;\">\n",
       "      <th></th>\n",
       "      <th>0</th>\n",
       "      <th>1</th>\n",
       "      <th>2</th>\n",
       "      <th>3</th>\n",
       "      <th>4</th>\n",
       "      <th>5</th>\n",
       "      <th>6</th>\n",
       "      <th>7</th>\n",
       "      <th>8</th>\n",
       "      <th>9</th>\n",
       "      <th>10</th>\n",
       "    </tr>\n",
       "  </thead>\n",
       "  <tbody>\n",
       "    <tr>\n",
       "      <th>35993</th>\n",
       "      <td>1.113345</td>\n",
       "      <td>0.948796</td>\n",
       "      <td>NaN</td>\n",
       "      <td>0.410645</td>\n",
       "      <td>0.778496</td>\n",
       "      <td>0.640562</td>\n",
       "      <td>1.084575</td>\n",
       "      <td>-0.024480</td>\n",
       "      <td>-0.091477</td>\n",
       "      <td>0.999115</td>\n",
       "      <td>1.534562</td>\n",
       "    </tr>\n",
       "    <tr>\n",
       "      <th>35994</th>\n",
       "      <td>1.205990</td>\n",
       "      <td>0.597999</td>\n",
       "      <td>NaN</td>\n",
       "      <td>0.332083</td>\n",
       "      <td>0.764253</td>\n",
       "      <td>0.491584</td>\n",
       "      <td>1.204120</td>\n",
       "      <td>-0.054393</td>\n",
       "      <td>0.063616</td>\n",
       "      <td>0.813817</td>\n",
       "      <td>1.420545</td>\n",
       "    </tr>\n",
       "    <tr>\n",
       "      <th>35995</th>\n",
       "      <td>1.313253</td>\n",
       "      <td>0.192244</td>\n",
       "      <td>NaN</td>\n",
       "      <td>0.258020</td>\n",
       "      <td>0.693189</td>\n",
       "      <td>0.519668</td>\n",
       "      <td>1.351348</td>\n",
       "      <td>-0.102754</td>\n",
       "      <td>0.269145</td>\n",
       "      <td>0.630903</td>\n",
       "      <td>1.333991</td>\n",
       "    </tr>\n",
       "    <tr>\n",
       "      <th>35996</th>\n",
       "      <td>1.380866</td>\n",
       "      <td>-0.022966</td>\n",
       "      <td>NaN</td>\n",
       "      <td>0.173295</td>\n",
       "      <td>0.571627</td>\n",
       "      <td>0.619091</td>\n",
       "      <td>1.401515</td>\n",
       "      <td>-0.137990</td>\n",
       "      <td>0.315778</td>\n",
       "      <td>0.595053</td>\n",
       "      <td>1.382474</td>\n",
       "    </tr>\n",
       "    <tr>\n",
       "      <th>35997</th>\n",
       "      <td>1.359710</td>\n",
       "      <td>-0.007784</td>\n",
       "      <td>NaN</td>\n",
       "      <td>0.096590</td>\n",
       "      <td>0.446460</td>\n",
       "      <td>0.624469</td>\n",
       "      <td>1.339037</td>\n",
       "      <td>-0.138702</td>\n",
       "      <td>0.196466</td>\n",
       "      <td>0.701137</td>\n",
       "      <td>1.555381</td>\n",
       "    </tr>\n",
       "    <tr>\n",
       "      <th>...</th>\n",
       "      <td>...</td>\n",
       "      <td>...</td>\n",
       "      <td>...</td>\n",
       "      <td>...</td>\n",
       "      <td>...</td>\n",
       "      <td>...</td>\n",
       "      <td>...</td>\n",
       "      <td>...</td>\n",
       "      <td>...</td>\n",
       "      <td>...</td>\n",
       "      <td>...</td>\n",
       "    </tr>\n",
       "    <tr>\n",
       "      <th>71981</th>\n",
       "      <td>0.538533</td>\n",
       "      <td>0.399124</td>\n",
       "      <td>NaN</td>\n",
       "      <td>0.821013</td>\n",
       "      <td>-0.170785</td>\n",
       "      <td>1.158751</td>\n",
       "      <td>0.682918</td>\n",
       "      <td>0.148761</td>\n",
       "      <td>0.652645</td>\n",
       "      <td>NaN</td>\n",
       "      <td>0.783607</td>\n",
       "    </tr>\n",
       "    <tr>\n",
       "      <th>71982</th>\n",
       "      <td>0.712870</td>\n",
       "      <td>0.418369</td>\n",
       "      <td>NaN</td>\n",
       "      <td>0.838734</td>\n",
       "      <td>-0.260950</td>\n",
       "      <td>1.180239</td>\n",
       "      <td>0.313320</td>\n",
       "      <td>0.151934</td>\n",
       "      <td>0.660206</td>\n",
       "      <td>NaN</td>\n",
       "      <td>0.786171</td>\n",
       "    </tr>\n",
       "    <tr>\n",
       "      <th>71983</th>\n",
       "      <td>0.670323</td>\n",
       "      <td>0.356299</td>\n",
       "      <td>NaN</td>\n",
       "      <td>0.842801</td>\n",
       "      <td>-0.264011</td>\n",
       "      <td>1.228860</td>\n",
       "      <td>0.215326</td>\n",
       "      <td>0.221346</td>\n",
       "      <td>0.631483</td>\n",
       "      <td>NaN</td>\n",
       "      <td>0.687742</td>\n",
       "    </tr>\n",
       "    <tr>\n",
       "      <th>71984</th>\n",
       "      <td>0.355962</td>\n",
       "      <td>0.335461</td>\n",
       "      <td>NaN</td>\n",
       "      <td>0.759840</td>\n",
       "      <td>-0.186234</td>\n",
       "      <td>1.177698</td>\n",
       "      <td>0.688985</td>\n",
       "      <td>0.307233</td>\n",
       "      <td>0.545631</td>\n",
       "      <td>NaN</td>\n",
       "      <td>0.590033</td>\n",
       "    </tr>\n",
       "    <tr>\n",
       "      <th>71985</th>\n",
       "      <td>-0.033063</td>\n",
       "      <td>0.395319</td>\n",
       "      <td>NaN</td>\n",
       "      <td>NaN</td>\n",
       "      <td>-0.086809</td>\n",
       "      <td>1.024990</td>\n",
       "      <td>1.583235</td>\n",
       "      <td>NaN</td>\n",
       "      <td>0.396095</td>\n",
       "      <td>NaN</td>\n",
       "      <td>0.575735</td>\n",
       "    </tr>\n",
       "  </tbody>\n",
       "</table>\n",
       "<p>35993 rows × 11 columns</p>\n",
       "</div>"
      ],
      "text/plain": [
       "              0         1   2         3         4         5         6  \\\n",
       "35993  1.113345  0.948796 NaN  0.410645  0.778496  0.640562  1.084575   \n",
       "35994  1.205990  0.597999 NaN  0.332083  0.764253  0.491584  1.204120   \n",
       "35995  1.313253  0.192244 NaN  0.258020  0.693189  0.519668  1.351348   \n",
       "35996  1.380866 -0.022966 NaN  0.173295  0.571627  0.619091  1.401515   \n",
       "35997  1.359710 -0.007784 NaN  0.096590  0.446460  0.624469  1.339037   \n",
       "...         ...       ...  ..       ...       ...       ...       ...   \n",
       "71981  0.538533  0.399124 NaN  0.821013 -0.170785  1.158751  0.682918   \n",
       "71982  0.712870  0.418369 NaN  0.838734 -0.260950  1.180239  0.313320   \n",
       "71983  0.670323  0.356299 NaN  0.842801 -0.264011  1.228860  0.215326   \n",
       "71984  0.355962  0.335461 NaN  0.759840 -0.186234  1.177698  0.688985   \n",
       "71985 -0.033063  0.395319 NaN       NaN -0.086809  1.024990  1.583235   \n",
       "\n",
       "              7         8         9        10  \n",
       "35993 -0.024480 -0.091477  0.999115  1.534562  \n",
       "35994 -0.054393  0.063616  0.813817  1.420545  \n",
       "35995 -0.102754  0.269145  0.630903  1.333991  \n",
       "35996 -0.137990  0.315778  0.595053  1.382474  \n",
       "35997 -0.138702  0.196466  0.701137  1.555381  \n",
       "...         ...       ...       ...       ...  \n",
       "71981  0.148761  0.652645       NaN  0.783607  \n",
       "71982  0.151934  0.660206       NaN  0.786171  \n",
       "71983  0.221346  0.631483       NaN  0.687742  \n",
       "71984  0.307233  0.545631       NaN  0.590033  \n",
       "71985       NaN  0.396095       NaN  0.575735  \n",
       "\n",
       "[35993 rows x 11 columns]"
      ]
     },
     "execution_count": 139,
     "metadata": {},
     "output_type": "execute_result"
    }
   ],
   "source": [
    "ogb_calcium[ogb_calcium[\"2\"].isnull()]"
   ]
  },
  {
   "cell_type": "markdown",
   "metadata": {},
   "source": [
    "## Task 1: Visualization of calcium and spike recordings\n",
    "\n",
    "We start again by plotting the raw data - calcium and spike traces in this case. One dataset has been recorded using the synthetic calcium indicator OGB-1 at population imaging zoom (~100 cells in a field of view) and the other one using the genetically encoded indicator GCamp6f zooming in on individual cells. Plot the traces of an example cell from each dataset to show how spikes and calcium signals are related. A good example cell for the OGB-dataset is cell 5. For the CGamp-dataset a good example is cell 6. Zoom in on a small segment of tens of seconds and offset the traces such that a valid comparison is possible.\n",
    "\n",
    "*Grading: 2 pts*"
   ]
  },
  {
   "cell_type": "code",
   "execution_count": 146,
   "metadata": {},
   "outputs": [
    {
     "data": {
      "image/png": "[encoded data removed]",
      "text/plain": [
       "<Figure size 900x500 with 4 Axes>"
      ]
     },
     "metadata": {},
     "output_type": "display_data"
    },
    {
     "data": {
      "image/png": "[encoded data removed]",
      "text/plain": [
       "<Figure size 900x500 with 4 Axes>"
      ]
     },
     "metadata": {},
     "output_type": "display_data"
    }
   ],
   "source": [
    "# ----------------------------\n",
    "# Plot raw calcium data (1 pt)\n",
    "# ----------------------------\n",
    "\n",
    "# --------------------------\n",
    "# Plot raw spike data (1 pt)\n",
    "# --------------------------\n",
    "SHOWPRERESAMPLED = True\n",
    "\n",
    "fig, axs = plt.subplots(\n",
    "    2, 2, figsize=(9, 5), height_ratios=[3, 1], layout=\"constrained\"\n",
    ")\n",
    "\n",
    "# set sampling rate in Hz\n",
    "fs = 25\n",
    "\n",
    "# set time-window in s\n",
    "start = 40\n",
    "duration = 25\n",
    "end = start + duration\n",
    "\n",
    "# convert timewindow to samples\n",
    "start_s = start * fs\n",
    "duration_s = duration * fs\n",
    "end_s = end * fs\n",
    "\n",
    "# create time linspace\n",
    "time = np.linspace(start, end, duration_s)\n",
    "\n",
    "# plot raw ogb data of Cell 5\n",
    "axs[0, 0].plot(time, ogb_spikes_25[\"5\"][start_s:end_s])\n",
    "axs[1, 0].plot(time, ogb_calcium_25[\"5\"][start_s:end_s])\n",
    "\n",
    "# plot raw gcamp data of cell 6\n",
    "axs[0, 1].plot(time, gcamp_spikes_25[\"6\"][start_s:end_s])\n",
    "axs[1, 1].plot(time, gcamp_calcium_25[\"6\"][start_s:end_s])\n",
    "\n",
    "# first row does not need x-axis\n",
    "axs[0, 0].set_xticks([])\n",
    "axs[0, 1].set_xticks([])\n",
    "\n",
    "# set the column names for the subplots\n",
    "axs[0, 0].set_title(\"OGB\")\n",
    "axs[0, 1].set_title(\"GCaMP\")\n",
    "\n",
    "# set the row names for the subplots\n",
    "axs[0, 0].set_ylabel(\"Spikes\")\n",
    "axs[1, 0].set_ylabel(\"Calcium\")\n",
    "\n",
    "plt.show()\n",
    "\n",
    "if SHOWPRERESAMPLED:\n",
    "    fig, axs = plt.subplots(\n",
    "        2, 2, figsize=(9, 5), height_ratios=[3, 1], layout=\"constrained\"\n",
    "    )\n",
    "\n",
    "    # set sampling rate in Hz\n",
    "    fs = 100\n",
    "\n",
    "    # set time-window in s\n",
    "    start = 40\n",
    "    duration = 25\n",
    "    end = start + duration\n",
    "\n",
    "    # convert timewindow to samples\n",
    "    start_s = start * fs\n",
    "    duration_s = duration * fs\n",
    "    end_s = end * fs\n",
    "\n",
    "    # create time linspace\n",
    "    time = np.linspace(start, end, duration_s)\n",
    "\n",
    "    # plot raw ogb data of Cell 5\n",
    "    axs[0, 0].plot(time, ogb_spikes[\"5\"][start_s:end_s])\n",
    "    axs[1, 0].plot(time, ogb_calcium[\"5\"][start_s:end_s])\n",
    "\n",
    "    # plot raw gcamp data of cell 6\n",
    "    axs[0, 1].plot(time, gcamp_spikes[\"6\"][start_s:end_s])\n",
    "    axs[1, 1].plot(time, gcamp_calcium[\"6\"][start_s:end_s])\n",
    "\n",
    "    # first row does not need x-axis\n",
    "    axs[0, 0].set_xticks([])\n",
    "    axs[0, 1].set_xticks([])\n",
    "\n",
    "    # set the column names for the subplots\n",
    "    axs[0, 0].set_title(\"OGB\")\n",
    "    axs[0, 1].set_title(\"GCaMP\")\n",
    "\n",
    "    # set the row names for the subplots\n",
    "    axs[0, 0].set_ylabel(\"Spikes\")\n",
    "    axs[1, 0].set_ylabel(\"Calcium\")\n",
    "\n",
    "    plt.show()"
   ]
  },
  {
   "cell_type": "markdown",
   "metadata": {},
   "source": [
    "## Task 2: Simple deconvolution\n",
    "\n",
    "It is clear from the above plots that the calcium events happen in relationship to the spikes. As a first simple algorithm implement a deconvolution approach like presented in the lecture in the function `deconv_ca`. Assume an exponential kernel where the decay constant depends on the indicator ($\\tau_{OGB}= 0.5 s$, $\\tau_{GCaMP}= 0.1 s$). As we know that there can be no negative rates, apply a heavyside function to the output. Plot the kernel as well as an example cell with true and deconvolved spike rates. Scale the signals such as to facilitate comparisons. You can use functions from `scipy` for this.\n",
    "\n",
    "*Grading: 3 pts*\n"
   ]
  },
  {
   "cell_type": "code",
   "execution_count": 141,
   "metadata": {},
   "outputs": [],
   "source": [
    "def deconv_ca(ca: np.ndarray, tau: float, dt: float) -> np.ndarray:\n",
    "    \"\"\"Compute the deconvolution of the calcium signal.\n",
    "\n",
    "    Parameters\n",
    "    ----------\n",
    "\n",
    "    ca: np.array, (n_points,)\n",
    "        Calcium trace\n",
    "\n",
    "    tau: float\n",
    "        decay constant of conv kernel\n",
    "\n",
    "    dt: float\n",
    "        sampling interval.\n",
    "\n",
    "    Return\n",
    "    ------\n",
    "\n",
    "    sp_hat: np.array\n",
    "    \"\"\"\n",
    "\n",
    "    # insert your code here\n",
    "\n",
    "    # --------------------------------------------\n",
    "    # apply devonvolution to calcium signal (1 pt)\n",
    "    # --------------------------------------------\n",
    "\n",
    "    # low pass filter\n",
    "\n",
    "    #\n",
    "\n",
    "    return sp_hat"
   ]
  },
  {
   "cell_type": "code",
   "execution_count": 142,
   "metadata": {},
   "outputs": [
    {
     "data": {
      "image/png": "[encoded data removed]",
      "text/plain": [
       "<Figure size 600x500 with 1 Axes>"
      ]
     },
     "metadata": {},
     "output_type": "display_data"
    }
   ],
   "source": [
    "fig, ax = plt.subplots(figsize=(6, 5), layout=\"constrained\")\n",
    "\n",
    "# -------------------------\n",
    "# Plot the 2 kernels (1 pt)\n",
    "# -------------------------"
   ]
  },
  {
   "cell_type": "code",
   "execution_count": 143,
   "metadata": {},
   "outputs": [
    {
     "data": {
      "image/png": "[encoded data removed]",
      "text/plain": [
       "<Figure size 600x400 with 3 Axes>"
      ]
     },
     "metadata": {},
     "output_type": "display_data"
    }
   ],
   "source": [
    "# --------------------------------------------------------------------------\n",
    "# Compare true and deconvolved spikes rates for the OGB or GCamP Cell (1 pt)\n",
    "# --------------------------------------------------------------------------\n",
    "\n",
    "fig, axs = plt.subplots(\n",
    "    3, 1, figsize=(6, 4), height_ratios=[1, 1, 1], gridspec_kw=dict(hspace=0)\n",
    ")\n",
    "\n",
    "# OGB Cell"
   ]
  },
  {
   "cell_type": "markdown",
   "metadata": {},
   "source": [
    "## Task 3: Run more complex algorithm\n",
    "\n",
    "As reviewed in the lecture, a number of more complex algorithms for inferring spikes from calcium traces have been developed. Run an implemented algorithm on the data and plot the result. There is a choice of algorithms available, for example:\n",
    "\n",
    "* Vogelstein: [oopsi](https://github.com/liubenyuan/py-oopsi)\n",
    "* Theis: [c2s](https://github.com/lucastheis/c2s)\n",
    "* Friedrich: [OASIS](https://github.com/j-friedrich/OASIS)\n",
    "\n",
    "*Grading: 2 pts*\n",
    "\n"
   ]
  },
  {
   "cell_type": "code",
   "execution_count": 144,
   "metadata": {},
   "outputs": [
    {
     "name": "stderr",
     "output_type": "stream",
     "text": [
      "Der Befehl \"wget\" ist entweder falsch geschrieben oder\n",
      "konnte nicht gefunden werden.\n"
     ]
    }
   ],
   "source": [
    "# run this cell to download the oopsi.py file if you haven't already mannually downloaded it\n",
    "# and put it in the same folder as this notebook\n",
    "!wget https://raw.githubusercontent.com/liubenyuan/py-oopsi/master/oopsi.py"
   ]
  },
  {
   "cell_type": "code",
   "execution_count": 145,
   "metadata": {},
   "outputs": [
    {
     "ename": "ModuleNotFoundError",
     "evalue": "No module named 'oopsi'",
     "output_type": "error",
     "traceback": [
      "\u001b[1;31m---------------------------------------------------------------------------\u001b[0m",
      "\u001b[1;31mModuleNotFoundError\u001b[0m                       Traceback (most recent call last)",
      "Cell \u001b[1;32mIn[145], line 1\u001b[0m\n\u001b[1;32m----> 1\u001b[0m \u001b[38;5;28;01mimport\u001b[39;00m \u001b[38;5;21;01moopsi\u001b[39;00m\n",
      "\u001b[1;31mModuleNotFoundError\u001b[0m: No module named 'oopsi'"
     ]
    }
   ],
   "source": [
    "import oopsi"
   ]
  },
  {
   "cell_type": "code",
   "execution_count": null,
   "metadata": {},
   "outputs": [],
   "source": [
    "# --------------------------------------------------------------\n",
    "# Apply one of the advanced algorithms on the OGB Cell (0.5 pts)\n",
    "# --------------------------------------------------------------"
   ]
  },
  {
   "cell_type": "code",
   "execution_count": null,
   "metadata": {},
   "outputs": [],
   "source": [
    "# -------------------------------------------\n",
    "# Plot the results for the OGB Cell (0.5 pts)\n",
    "# -------------------------------------------\n",
    "\n",
    "fig, axs = plt.subplots(\n",
    "    3, 1, figsize=(6, 4), height_ratios=[1, 1, 1], gridspec_kw=dict(hspace=0)\n",
    ")\n",
    "\n",
    "# OGB Cell"
   ]
  },
  {
   "cell_type": "code",
   "execution_count": null,
   "metadata": {},
   "outputs": [],
   "source": [
    "# ----------------------------------------------------------------\n",
    "# Apply one of the advanced algorithms on the GCamP Cell (0.5 pts)\n",
    "# ----------------------------------------------------------------"
   ]
  },
  {
   "cell_type": "code",
   "execution_count": null,
   "metadata": {},
   "outputs": [],
   "source": [
    "# ---------------------------------------------\n",
    "# Plot the results for the GCamp Cell (0.5 pts)\n",
    "# ---------------------------------------------\n",
    "\n",
    "fig, axs = plt.subplots(\n",
    "    3, 1, figsize=(6, 4), height_ratios=[1, 1, 1], gridspec_kw=dict(hspace=0)\n",
    ")\n",
    "\n",
    "\n",
    "# GCamP Cell"
   ]
  },
  {
   "cell_type": "markdown",
   "metadata": {},
   "source": [
    "## Task 4: Evaluation of algorithms\n",
    "\n",
    "To formally evaluate the algorithms on the two datasets run the deconvolution algorithm and the more complex one on all cells and compute the correlation between true and inferred spike trains. `DataFrames` from the `pandas` package are a useful tool for aggregating data and later plotting it. Create a dataframe with columns\n",
    "\n",
    "* algorithm\n",
    "* correlation\n",
    "* indicator\n",
    "\n",
    "and enter each cell. Plot the results using `stripplot` and/or `boxplot` in the `seaborn` package.\n",
    "\n",
    "*Grading: 3 pts*\n"
   ]
  },
  {
   "cell_type": "markdown",
   "metadata": {},
   "source": [
    "Evaluate on OGB data"
   ]
  },
  {
   "cell_type": "code",
   "execution_count": null,
   "metadata": {},
   "outputs": [],
   "source": [
    "# -------------------------------------------------\n",
    "# Create dataframe for OGB Cell as described (1 pt)\n",
    "# -------------------------------------------------"
   ]
  },
  {
   "cell_type": "markdown",
   "metadata": {},
   "source": [
    "Create OGB dataframe"
   ]
  },
  {
   "cell_type": "code",
   "execution_count": null,
   "metadata": {},
   "outputs": [],
   "source": [
    "df_ogb = pd.DataFrame({\"algorithm\": algo, \"correlation\": c, \"indicator\": indicator})\n",
    "df_ogb.head()"
   ]
  },
  {
   "cell_type": "markdown",
   "metadata": {},
   "source": [
    "Evaluate on GCamp data"
   ]
  },
  {
   "cell_type": "code",
   "execution_count": null,
   "metadata": {},
   "outputs": [],
   "source": [
    "# ---------------------------------------------------\n",
    "# Create dataframe for GCamP Cell as described (1 pt)\n",
    "# ---------------------------------------------------"
   ]
  },
  {
   "cell_type": "markdown",
   "metadata": {},
   "source": [
    "Create GCamp dataframe"
   ]
  },
  {
   "cell_type": "code",
   "execution_count": null,
   "metadata": {},
   "outputs": [],
   "source": [
    "df_gcamp = pd.DataFrame({\"algorithm\": algo, \"correlation\": c, \"indicator\": indicator})\n",
    "df_gcamp.head()"
   ]
  },
  {
   "cell_type": "markdown",
   "metadata": {},
   "source": [
    "Combine both dataframes and plot"
   ]
  },
  {
   "cell_type": "code",
   "execution_count": null,
   "metadata": {},
   "outputs": [],
   "source": [
    "# ---------------------------------------------------------------------------\n",
    "# Create Strip/Boxplot for both cells and algorithms Cell as described (1 pt)\n",
    "# hint: you can seperate the algorithms by color\n",
    "# ---------------------------------------------------------------------------"
   ]
  }
 ],
 "metadata": {
  "kernelspec": {
   "display_name": "python3",
   "language": "python",
   "name": "python3"
  },
  "language_info": {
   "codemirror_mode": {
    "name": "ipython",
    "version": 3
   },
   "file_extension": ".py",
   "mimetype": "text/x-python",
   "name": "python",
   "nbconvert_exporter": "python",
   "pygments_lexer": "ipython3",
   "version": "3.9.18"
  }
 },
 "nbformat": 4,
 "nbformat_minor": 4
}
